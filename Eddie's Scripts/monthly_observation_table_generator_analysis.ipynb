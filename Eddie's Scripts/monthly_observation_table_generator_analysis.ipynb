{
 "cells": [
  {
   "cell_type": "markdown",
   "metadata": {},
   "source": [
    "# Create Observation Count Table\n",
    "\n",
    "What you'll see here is a step by step walk through on generating an observation counts table. This is a table of monthly observations for specific years and includes a column that represents a total observation count for that year.\n",
    "\n",
    "***Note: This code is meant to be ran, just to analyze the script. If you want to run the code, just use the create_year_and_month_data.py script."
   ]
  },
  {
   "cell_type": "markdown",
   "metadata": {},
   "source": [
    "We begin by adding in all the imports needed to make this work"
   ]
  },
  {
   "cell_type": "code",
   "execution_count": null,
   "metadata": {},
   "outputs": [],
   "source": [
    "import pandas as pd\n",
    "import numpy as np\n",
    "import datetime"
   ]
  },
  {
   "cell_type": "markdown",
   "metadata": {},
   "source": [
    "Next we create the two global variables that are needed to be accessed in various parts of the solution."
   ]
  },
  {
   "cell_type": "code",
   "execution_count": null,
   "metadata": {},
   "outputs": [],
   "source": [
    "#provide a species.csv in the root directory that is a csv of 2 columns: taxonID, scientific_name\n",
    "speciesId = pd.read_csv(\"./species.csv\").ix[:,\"taxonID\"]\n",
    "# headers represents the column headers for the final csv output.\n",
    "headers = [\"TaxonId\", \"ScientificName\", \"TotalObservations\", \"Year\", \"January\", \"February\", \"March\", \"April\", \"May\", \"June\", \"July\", \"August\", \"September\", \"October\", \"November\", \"December\"]"
   ]
  },
  {
   "cell_type": "markdown",
   "metadata": {},
   "source": [
    "Next is the readCsv function. It does 3 major things:\n",
    "1.) Select \"taxon_id\", \"scientific_name\", \"datetime\" from the read in csv.\n",
    "2.) Group Species By TaxonID and generate rows which match the headers.\n",
    "3.) Export to CSV"
   ]
  },
  {
   "cell_type": "code",
   "execution_count": null,
   "metadata": {},
   "outputs": [],
   "source": [
    "def readCsv(pathToCsv):\n",
    "    file = pd.read_csv(pathToCsv, encoding = \"ISO-8859-1\")\n",
    "\n",
    "    # get date observed, taxonid, species name \n",
    "    # change these values here and throughout the solution to the appropriate ones on the csv you're feeding in.\n",
    "    filteredData = file.ix[:, [\"taxon_id\", \"scientific_name\", \"datetime\"]]\n",
    "    # split into 2d dataframe that will be taxonId, speciesName, numObserved, month\n",
    "    df = groupSpeciesAndCreateFrame(filteredData)\n",
    "    # transform into csv\n",
    "    df.to_csv(\"./observation_counts.csv\", index=False)"
   ]
  },
  {
   "cell_type": "markdown",
   "metadata": {},
   "source": [
    "The next part is the meat and bones of the solution. \n",
    "1.) It first iterates through the ids in the species list. \n",
    "2.) It then finds all the rows in the filteredData that match that id. \n",
    "3.) Turns their datetime string into a pandas datetime object. \n",
    "4.) It then goes through every datetime in the groupedSpecies and creates a dictionary where the keys are the years and the values is a dictionary of observations per month.\n",
    "5.) Flatten the yearMonths dictionary into a list.\n",
    "6.) Create the dataframe we'll be outputting as a CSV"
   ]
  },
  {
   "cell_type": "code",
   "execution_count": null,
   "metadata": {},
   "outputs": [],
   "source": [
    "def groupSpeciesAndCreateFrame(df):\n",
    "    toReturn = pd.DataFrame(columns=headers)\n",
    "    listToPutIntoDf = []\n",
    "    months = pd.DataFrame(columns=headers[3:])\n",
    "\n",
    "    for id in speciesId:\n",
    "        # grab all rows that match the id\n",
    "        groupedSpecies = df.ix[df[\"taxon_id\"] == id]  \n",
    "        #transform their datetime string into a datetime pandas object\n",
    "        groupedSpecies.ix[:, \"datetime\"] = groupedSpecies.ix[:, \"datetime\"].apply(pd.to_datetime)\n",
    "\n",
    "        yearMonths = {}\n",
    "        \n",
    "        # create dictionary where key is year and value is dictionary of observations broken down by month\n",
    "        for obs in groupedSpecies.ix[:, \"datetime\"]:\n",
    "            month = returnMonthAsString(obs.month - 1)\n",
    "            year = obs.year\n",
    "            if not year in yearMonths:\n",
    "                yearMonths[year] = createEmptyMonthsDictionary()\n",
    "            yearMonths[year][month] += 1\n",
    "        \n",
    "        # turn dictionary into flattened list\n",
    "        flattenedDictionary = flattenDictionary(yearMonths)\n",
    "        \n",
    "        # organize so that it fits the headers arrangement\n",
    "        for row in flattenedDictionary:\n",
    "            totalObs = sum(row[1:]) \n",
    "            listToPutIntoDf.append([id, groupedSpecies[\"scientific_name\"].values[0], totalObs, *row])\n",
    "    \n",
    "    # create the dataframe that will be exported as csv\n",
    "    toReturn = pd.DataFrame(listToPutIntoDf, columns=headers)\n",
    "    \n",
    "    return toReturn"
   ]
  },
  {
   "cell_type": "markdown",
   "metadata": {},
   "source": [
    "The next three are helper functions used to assist groupSpeciesAndCreateFrame"
   ]
  },
  {
   "cell_type": "code",
   "execution_count": null,
   "metadata": {},
   "outputs": [],
   "source": [
    "def createEmptyMonthsDictionary():\n",
    "    return {\n",
    "            \"January\": 0,\n",
    "            \"February\": 0,\n",
    "            \"March\": 0, \n",
    "            \"April\": 0, \n",
    "            \"May\": 0,\n",
    "            \"June\": 0,\n",
    "            \"July\": 0,\n",
    "            \"August\": 0,\n",
    "            \"September\": 0,\n",
    "            \"October\": 0,\n",
    "            \"November\": 0,\n",
    "            \"December\": 0\n",
    "        }\n",
    "\n",
    "def returnMonthAsString(month):\n",
    "    return [\n",
    "        \"January\",\n",
    "        \"February\",\n",
    "        \"March\", \n",
    "        \"April\", \n",
    "        \"May\",\n",
    "        \"June\",\n",
    "        \"July\",\n",
    "        \"August\",\n",
    "        \"September\",\n",
    "        \"October\",\n",
    "        \"November\",\n",
    "        \"December\"\n",
    "    ][month]\n",
    "\n",
    "def flattenDictionary(dictVar):\n",
    "    returnList = []\n",
    "    for key, value in dictVar.items():\n",
    "        flattenedMonths = []\n",
    "        flattenedMonths.append(key)\n",
    "        for key2, value2 in value.items():\n",
    "            flattenedMonths.append(value2)\n",
    "        returnList.append(flattenedMonths)\n",
    "    \n",
    "    return returnList"
   ]
  },
  {
   "cell_type": "markdown",
   "metadata": {},
   "source": [
    "Finally, we have the main function that kicks it all off. Just adjust the path to CSV to match whatever observation data you have in the root directory."
   ]
  },
  {
   "cell_type": "code",
   "execution_count": null,
   "metadata": {},
   "outputs": [],
   "source": [
    "def main():\n",
    "    readCsv(\"./kensaku_master.csv\")\n",
    "\n",
    "if __name__ == \"__main__\":\n",
    "    main()"
   ]
  }
 ],
 "metadata": {
  "kernelspec": {
   "display_name": "Python 3",
   "language": "python",
   "name": "python3"
  },
  "language_info": {
   "codemirror_mode": {
    "name": "ipython",
    "version": 3
   },
   "file_extension": ".py",
   "mimetype": "text/x-python",
   "name": "python",
   "nbconvert_exporter": "python",
   "pygments_lexer": "ipython3",
   "version": "3.6.2"
  }
 },
 "nbformat": 4,
 "nbformat_minor": 2
}
