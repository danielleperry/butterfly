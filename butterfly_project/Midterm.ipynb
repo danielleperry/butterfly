{
 "cells": [
  {
   "cell_type": "code",
   "execution_count": 1,
   "metadata": {
    "collapsed": true
   },
   "outputs": [],
   "source": [
    "import requests\n",
    "import json\n",
    "import csv\n",
    "import subprocess as sp\n",
    "import sys"
   ]
  },
  {
   "cell_type": "code",
   "execution_count": 2,
   "metadata": {
    "collapsed": true
   },
   "outputs": [],
   "source": [
    "def listOfIdsNames():\n",
    "    file = open(\"taxon-Ids.txt\").readlines()\n",
    "    dictionary = {}\n",
    "    count = 0\n",
    "    for data in file:\n",
    "        data = data.strip().split()\n",
    "        if(count != 0):\n",
    "            dictionary[data[0]] = data[1]+\" \"+data[2]\n",
    "        else:       \n",
    "            count = 1;\n",
    "    return dictionary"
   ]
  },
  {
   "cell_type": "code",
   "execution_count": 3,
   "metadata": {
    "collapsed": true
   },
   "outputs": [],
   "source": [
    "def getAccessToken(species):\n",
    "    print(\"Running...\")\n",
    "    site = \"https://www.inaturalist.org\"\n",
    "    app_id = '69345738565c2bd88f2dafa49857e426ad01918d5e5a72fcdde40d258f22b49c'\n",
    "    app_secret = '62899ac1d355f1743b84db1e21e94f2bc40de4915cb7a2cb2afaeab41dfb0de8'\n",
    "    username = 'ornelaseduardo'\n",
    "    password = 'qb7A1PAl4eRp6rPh'\n",
    "\n",
    "    payload = {\n",
    "        'client_id': app_id,\n",
    "        'client_secret': app_secret,\n",
    "        'grant_type': \"password\",\n",
    "        'username': username,\n",
    "        'password': password\n",
    "    }\n",
    "\n",
    "    response = requests.post((\"%s/oauth/token\" % site), payload)\n",
    "\n",
    "    token = response.json()[\"access_token\"]\n",
    "    headers = {\"Authorization\": \"Bearer %s\" % token}\n",
    "    run = 1\n",
    "    for butterfly in species:\n",
    "        \n",
    "        percent = round((run/len(species))*100,1)\n",
    "        #sp.call('cls',shell=True)\n",
    "        print(str(percent)+\"%\")\n",
    "        #print(str(butterfly))\n",
    "\n",
    "        obs_data = requests.get((\"http://api.inaturalist.org/v1/observations?taxon_id=\" + str(butterfly) +\"&quality_grade=research&page=1\"), headers=headers)\n",
    "        jData = json.loads(obs_data.text)\n",
    "        total_Observations = int(jData[\"total_results\"])\n",
    "        pages=0\n",
    "        if( total_Observations % 30 != 0):\n",
    "            pages = (total_Observations//30)+1\n",
    "        else:\n",
    "            pages = total_Observations//30\n",
    "\n",
    "        run2 = 1\n",
    "        tempList = []\n",
    "        for i in range(1,pages):\n",
    "            \n",
    "            percent2 = round((run2/pages)*100,1)\n",
    "            print(str(percent)+\"%\")\n",
    "            print(\"... \"+str(run2)+\" of \"+str(pages)+\" pages\")\n",
    "\n",
    "            obs_data = requests.get((\"http://api.inaturalist.org/v1/observations?taxon_id=\" + str(butterfly) +\"&quality_grade=research&page=\"+str(i)), headers=headers) #TODO ids\n",
    "\n",
    "            data = json.loads(obs_data.text)\n",
    "            record = 1\n",
    "            for records in data['results']:\n",
    "                #order of data, unique id, \n",
    "                holder = []\n",
    "                #print(\"......\"+str(record/30)+\"%\")\n",
    "                holder.append(records[\"id\"])\n",
    "                holder.append(str(butterfly))\n",
    "                holder.append(str(species[butterfly]))\n",
    "                \n",
    "                if(records[\"location\"] is not None):\n",
    "                    latlong = records[\"location\"].split(\",\")\n",
    "\n",
    "                    holder.append(latlong[0])\n",
    "                    holder.append(latlong[1])\n",
    "                holder.append(records[\"observed_on_string\"])\n",
    "                holder.append(records[\"updated_at\"])\n",
    "                tempList.append(holder)\n",
    "\n",
    "            run2+=1\n",
    "\n",
    "            sp.call('cls',shell=True)\n",
    "        run+=1\n",
    "       # print(tempList)\n",
    "        with open(str(butterfly)+\".csv\", \"w\",encoding='utf-8') as file:\n",
    "            writer = csv.writer(file)\n",
    "         #   if sys.stdout.encoding != 'cp850':\n",
    "            #    sys.stdout = codecs.getwriter('cp850')(sys.stdout.buffer, 'strict')\n",
    "            writer.writerows(tempList)\n",
    "        tempList = []"
   ]
  },
  {
   "cell_type": "code",
   "execution_count": 4,
   "metadata": {
    "collapsed": true
   },
   "outputs": [],
   "source": [
    "def main():\n",
    "    print(\"Running\")\n",
    "    butterflys = listOfIdsNames()\n",
    "    dick = {\"52773\":\"Poanes zabulon\"}\n",
    "    getAccessToken(butterflys)\n",
    "    print(\"Complete\")"
   ]
  },
  {
   "cell_type": "code",
   "execution_count": 5,
   "metadata": {},
   "outputs": [
    {
     "name": "stdout",
     "output_type": "stream",
     "text": [
      "Running\n"
     ]
    },
    {
     "ename": "FileNotFoundError",
     "evalue": "[Errno 2] No such file or directory: 'taxon-Ids.txt'",
     "output_type": "error",
     "traceback": [
      "\u001b[1;31m---------------------------------------------------------------------------\u001b[0m",
      "\u001b[1;31mFileNotFoundError\u001b[0m                         Traceback (most recent call last)",
      "\u001b[1;32m<ipython-input-5-58ca95c5b364>\u001b[0m in \u001b[0;36m<module>\u001b[1;34m()\u001b[0m\n\u001b[1;32m----> 1\u001b[1;33m \u001b[0mmain\u001b[0m\u001b[1;33m(\u001b[0m\u001b[1;33m)\u001b[0m\u001b[1;33m\u001b[0m\u001b[0m\n\u001b[0m",
      "\u001b[1;32m<ipython-input-4-ae4dfb71a121>\u001b[0m in \u001b[0;36mmain\u001b[1;34m()\u001b[0m\n\u001b[0;32m      1\u001b[0m \u001b[1;32mdef\u001b[0m \u001b[0mmain\u001b[0m\u001b[1;33m(\u001b[0m\u001b[1;33m)\u001b[0m\u001b[1;33m:\u001b[0m\u001b[1;33m\u001b[0m\u001b[0m\n\u001b[0;32m      2\u001b[0m     \u001b[0mprint\u001b[0m\u001b[1;33m(\u001b[0m\u001b[1;34m\"Running\"\u001b[0m\u001b[1;33m)\u001b[0m\u001b[1;33m\u001b[0m\u001b[0m\n\u001b[1;32m----> 3\u001b[1;33m     \u001b[0mbutterflys\u001b[0m \u001b[1;33m=\u001b[0m \u001b[0mlistOfIdsNames\u001b[0m\u001b[1;33m(\u001b[0m\u001b[1;33m)\u001b[0m\u001b[1;33m\u001b[0m\u001b[0m\n\u001b[0m\u001b[0;32m      4\u001b[0m     \u001b[0mdick\u001b[0m \u001b[1;33m=\u001b[0m \u001b[1;33m{\u001b[0m\u001b[1;34m\"52773\"\u001b[0m\u001b[1;33m:\u001b[0m\u001b[1;34m\"Poanes zabulon\"\u001b[0m\u001b[1;33m}\u001b[0m\u001b[1;33m\u001b[0m\u001b[0m\n\u001b[0;32m      5\u001b[0m     \u001b[0mgetAccessToken\u001b[0m\u001b[1;33m(\u001b[0m\u001b[0mbutterflys\u001b[0m\u001b[1;33m)\u001b[0m\u001b[1;33m\u001b[0m\u001b[0m\n",
      "\u001b[1;32m<ipython-input-2-edfa7909df44>\u001b[0m in \u001b[0;36mlistOfIdsNames\u001b[1;34m()\u001b[0m\n\u001b[0;32m      1\u001b[0m \u001b[1;32mdef\u001b[0m \u001b[0mlistOfIdsNames\u001b[0m\u001b[1;33m(\u001b[0m\u001b[1;33m)\u001b[0m\u001b[1;33m:\u001b[0m\u001b[1;33m\u001b[0m\u001b[0m\n\u001b[1;32m----> 2\u001b[1;33m     \u001b[0mfile\u001b[0m \u001b[1;33m=\u001b[0m \u001b[0mopen\u001b[0m\u001b[1;33m(\u001b[0m\u001b[1;34m\"taxon-Ids.txt\"\u001b[0m\u001b[1;33m)\u001b[0m\u001b[1;33m.\u001b[0m\u001b[0mreadlines\u001b[0m\u001b[1;33m(\u001b[0m\u001b[1;33m)\u001b[0m\u001b[1;33m\u001b[0m\u001b[0m\n\u001b[0m\u001b[0;32m      3\u001b[0m     \u001b[0mdictionary\u001b[0m \u001b[1;33m=\u001b[0m \u001b[1;33m{\u001b[0m\u001b[1;33m}\u001b[0m\u001b[1;33m\u001b[0m\u001b[0m\n\u001b[0;32m      4\u001b[0m     \u001b[0mcount\u001b[0m \u001b[1;33m=\u001b[0m \u001b[1;36m0\u001b[0m\u001b[1;33m\u001b[0m\u001b[0m\n\u001b[0;32m      5\u001b[0m     \u001b[1;32mfor\u001b[0m \u001b[0mdata\u001b[0m \u001b[1;32min\u001b[0m \u001b[0mfile\u001b[0m\u001b[1;33m:\u001b[0m\u001b[1;33m\u001b[0m\u001b[0m\n",
      "\u001b[1;31mFileNotFoundError\u001b[0m: [Errno 2] No such file or directory: 'taxon-Ids.txt'"
     ]
    }
   ],
   "source": [
    "main()"
   ]
  },
  {
   "cell_type": "code",
   "execution_count": null,
   "metadata": {
    "collapsed": true
   },
   "outputs": [],
   "source": []
  }
 ],
 "metadata": {
  "kernelspec": {
   "display_name": "Python 3",
   "language": "python",
   "name": "python3"
  },
  "language_info": {
   "codemirror_mode": {
    "name": "ipython",
    "version": 3
   },
   "file_extension": ".py",
   "mimetype": "text/x-python",
   "name": "python",
   "nbconvert_exporter": "python",
   "pygments_lexer": "ipython3",
   "version": "3.6.2"
  }
 },
 "nbformat": 4,
 "nbformat_minor": 2
}
